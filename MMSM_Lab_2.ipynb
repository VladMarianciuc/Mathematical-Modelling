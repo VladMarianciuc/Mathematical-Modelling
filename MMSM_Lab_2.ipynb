{
  "cells": [
    {
      "cell_type": "markdown",
      "metadata": {
        "id": "view-in-github",
        "colab_type": "text"
      },
      "source": [
        "<a href=\"https://colab.research.google.com/github/VladMarianciuc/Mathematical-Modelling/blob/main/MMSM_Lab_2.ipynb\" target=\"_parent\"><img src=\"https://colab.research.google.com/assets/colab-badge.svg\" alt=\"Open In Colab\"/></a>"
      ]
    },
    {
      "cell_type": "code",
      "execution_count": null,
      "id": "351d91dd",
      "metadata": {
        "id": "351d91dd",
        "outputId": "957d4186-82c2-4064-b50e-3e13f041ab01"
      },
      "outputs": [
        {
          "name": "stdout",
          "output_type": "stream",
          "text": [
            "   ____\n",
            "  ╱  2 \n",
            "╲╱  x  \n",
            "1/2\n",
            "nan\n",
            "(x - 1)⋅(x + 1)\n",
            " 2    \n",
            "z  + 1\n"
          ]
        }
      ],
      "source": [
        "import sympy as sp\n",
        "\n",
        "x = sp.Symbol('x')\n",
        "y = sp.Symbol('y', real= True)\n",
        "z = sp.Symbol('z', imaginary=True)\n",
        "\n",
        "sp.pprint(sp.sqrt(x**2))\n",
        "print(sp.Rational(1,2))\n",
        "sp.pprint(sp.oo/sp.oo)\n",
        "sp.pprint(sp.factor(x**2-1))\n",
        "sp.pprint(sp.factor(z**2+1))"
      ]
    },
    {
      "cell_type": "code",
      "execution_count": null,
      "id": "c5c55ef6",
      "metadata": {
        "id": "c5c55ef6",
        "outputId": "c08c32a0-b829-471d-aa8f-daa64796c28c"
      },
      "outputs": [
        {
          "name": "stdout",
          "output_type": "stream",
          "text": [
            "exp(-1)\n"
          ]
        }
      ],
      "source": [
        "f = sp.Lambda(x, x*sp.exp(-x)+x*(1-x))\n",
        "print(f(1))"
      ]
    }
  ],
  "metadata": {
    "kernelspec": {
      "display_name": "Python 3 (ipykernel)",
      "language": "python",
      "name": "python3"
    },
    "language_info": {
      "codemirror_mode": {
        "name": "ipython",
        "version": 3
      },
      "file_extension": ".py",
      "mimetype": "text/x-python",
      "name": "python",
      "nbconvert_exporter": "python",
      "pygments_lexer": "ipython3",
      "version": "3.9.12"
    },
    "colab": {
      "provenance": [],
      "include_colab_link": true
    }
  },
  "nbformat": 4,
  "nbformat_minor": 5
}