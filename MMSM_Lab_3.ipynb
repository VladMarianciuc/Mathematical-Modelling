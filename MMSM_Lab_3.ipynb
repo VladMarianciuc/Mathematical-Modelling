{
  "cells": [
    {
      "cell_type": "markdown",
      "metadata": {
        "id": "view-in-github",
        "colab_type": "text"
      },
      "source": [
        "<a href=\"https://colab.research.google.com/github/VladMarianciuc/Mathematical-Modelling/blob/main/MMSM_Lab_3.ipynb\" target=\"_parent\"><img src=\"https://colab.research.google.com/assets/colab-badge.svg\" alt=\"Open In Colab\"/></a>"
      ]
    },
    {
      "cell_type": "code",
      "execution_count": null,
      "id": "38415e47",
      "metadata": {
        "id": "38415e47",
        "outputId": "3f96abe1-7732-4124-e299-62d7e74b2487"
      },
      "outputs": [
        {
          "data": {
            "text/plain": [
              "<matplotlib.legend.Legend at 0x235e9076070>"
            ]
          },
          "execution_count": 11,
          "metadata": {},
          "output_type": "execute_result"
        },
        {
          "data": {
            "image/png": "[encoded data removed]",
            "text/plain": [
              "<Figure size 432x288 with 1 Axes>"
            ]
          },
          "metadata": {
            "needs_background": "light"
          },
          "output_type": "display_data"
        }
      ],
      "source": [
        "# Prima si a doua derivata a unei functii\n",
        "\n",
        "import numpy as np\n",
        "import matplotlib.pyplot as plt\n",
        "\n",
        "f = lambda x: x**3-7*x**2+2*x+4\n",
        "\n",
        "x = np.linspace(-3, 7, 100)\n",
        "h = x[1]-x[0]\n",
        "\n",
        "fig = plt.figure()\n",
        "ax = plt.axes()\n",
        "ax.grid(True, color='b')\n",
        "\n",
        "ax.plot(x, f(x), lw='3', color='r', label='y=f(x)')\n",
        "\n",
        "def DifFinProg(x, f, h):\n",
        "    n = len(x)\n",
        "    df = np.zeros(n)\n",
        "    for i in range(n):\n",
        "        df[i]=(f(x[i]+h)-f(x[i]))/h\n",
        "    return df\n",
        "\n",
        "def Dif2FinProg(x, f, h):\n",
        "    n = len(x)\n",
        "    df2 = np.zeros(n)\n",
        "    for i in range(n):\n",
        "        df2[i] = (f(x[i]+h)-2*f(x[i])+f(x[i]-h))/(h**2)\n",
        "    return df2\n",
        "\n",
        "df = DifFinProg(x, f, h)\n",
        "ax.plot(x, df, lw='3', color='g', label=\"y=f'(x)\")\n",
        "\n",
        "df2 = Dif2FinProg(x, f, h)\n",
        "ax.plot(x, df2, lw='3', color='black', label=\"y=f''(x)\")\n",
        "ax.legend(loc='best')\n",
        "        \n"
      ]
    },
    {
      "cell_type": "code",
      "execution_count": null,
      "id": "1ccf0a5c",
      "metadata": {
        "id": "1ccf0a5c",
        "outputId": "234a4ec3-c62c-4dd6-c673-833e1eefac01"
      },
      "outputs": [
        {
          "name": "stdout",
          "output_type": "stream",
          "text": [
            "-203.33349999999547\n",
            "-203.33333333333337 2.435918049105697e-12\n",
            "-203.3503384008434\n",
            "-203.33350510169205\n"
          ]
        }
      ],
      "source": [
        "# Integrala unei functii\n",
        "\n",
        "def Integrare_T(f, a, b, m): # folosind metoda trapezului\n",
        "    x = np.linspace(a, b, m+1)\n",
        "    suma = 0\n",
        "    h = x[1]-x[0]\n",
        "    for i in range(1, m):\n",
        "        suma += f(x[i])\n",
        "    suma *= 2\n",
        "    suma += f(x[0])+f(x[m])\n",
        "    suma *= h/2\n",
        "    \n",
        "    return suma\n",
        "\n",
        "I_aprox = Integrare_T(f, -3, 7, 1000)\n",
        "print(I_aprox)\n",
        "\n",
        "import scipy as sc\n",
        "from scipy import integrate\n",
        "\n",
        "I_aprox2, err = integrate.quad(f, -3, 7)\n",
        "print(I_aprox2, err)\n",
        "\n",
        "I_aprox3 = integrate.trapz(f(x), x)\n",
        "print(I_aprox3)\n",
        "\n",
        "I_aprox4 = integrate.simps(f(x), x)\n",
        "print(I_aprox4)"
      ]
    },
    {
      "cell_type": "code",
      "execution_count": null,
      "id": "3e542649",
      "metadata": {
        "id": "3e542649",
        "outputId": "2c536f9c-ceae-426b-dc4c-0489780f46ea"
      },
      "outputs": [
        {
          "name": "stdout",
          "output_type": "stream",
          "text": [
            "[  1.           1.0586303    1.11247557   1.16045123   1.20143205\n",
            "   1.23425676   1.25773287   1.27064186   1.27174454   1.25978663\n",
            "   1.23350456   1.1916315    1.13290345   1.05606553   0.95987838\n",
            "   0.84312464   0.70461549   0.54319718   0.35775769   0.14723323\n",
            "  -0.08938521  -0.35304544  -0.64462767  -0.96493834  -1.31470404\n",
            "  -1.69456561  -2.10507249  -2.54667725  -3.01973045  -3.5244757\n",
            "  -4.06104511  -4.62945504  -5.22960219  -5.86126011  -6.52407606\n",
            "  -7.21756836  -7.94112409  -8.69399734  -9.47530784 -10.28404013\n",
            " -11.11904325 -11.97903086 -12.86258193 -13.76814198 -14.6940248\n",
            " -15.63841473 -16.59936947 -17.57482346 -18.56259174 -19.56037443\n",
            " -20.56576161 -21.57623888 -22.58919328 -23.60191985 -24.61162854\n",
            " -25.61545173 -26.6104521  -27.59363098 -28.56193714 -29.51227593\n",
            " -30.44151883 -31.3465133  -32.22409302 -33.07108834 -33.88433704\n",
            " -34.66069533 -35.39704895 -36.09032462 -36.73750136 -37.33562217\n",
            " -37.88180554 -38.37325712 -38.8072813  -39.18129275 -39.49282784\n",
            " -39.73955597 -39.91929065 -40.0300004  -40.06981942 -40.03705785\n",
            " -39.93021184 -39.74797314 -39.48923828 -39.15311734 -38.73894219\n",
            " -38.24627425 -37.67491161 -37.02489564 -36.29651691 -35.49032051\n",
            " -34.6071106  -33.64795437 -32.61418509 -31.5074046  -30.32948481\n",
            " -29.08256858 -27.76906961 -26.39167164 -24.95332668 -23.45725247]\n"
          ]
        },
        {
          "data": {
            "text/plain": [
              "<matplotlib.legend.Legend at 0x235e9c04160>"
            ]
          },
          "execution_count": 26,
          "metadata": {},
          "output_type": "execute_result"
        },
        {
          "data": {
            "image/png": "[encoded data removed]",
            "text/plain": [
              "<Figure size 432x288 with 1 Axes>"
            ]
          },
          "metadata": {
            "needs_background": "light"
          },
          "output_type": "display_data"
        }
      ],
      "source": [
        "# Rezolvare ecuatii diferentiale\n",
        "\n",
        "def pct_central(f, t_init, t_f, x_init, N):\n",
        "    t = np.linspace(t_init, t_f, N)\n",
        "    x = np.zeros(N)\n",
        "    x[0] = x_init\n",
        "    h=t[1]-t[0]\n",
        "    for i in range(N-1):\n",
        "        K1 = h*f(t[i], x[i])\n",
        "        K2 = h*f(t[i]+h/2, x[i]+K1/2)\n",
        "        x[i+1] = x[i]+K2\n",
        "    return t, x\n",
        "\n",
        "t_init = np.pi/2\n",
        "t_f = 2*np.pi\n",
        "x_init = 1\n",
        "f = lambda t, x: 2/t*x+t**2*np.cos(t)\n",
        "N=100\n",
        "t_sol, x_sol=pct_central(f, t_init, t_f, x_init, N)\n",
        "print(x_sol)\n",
        "\n",
        "fig2 = plt.figure(2)\n",
        "ax2 = plt.axes()\n",
        "ax2.plot(t_sol, x_sol, color='orange', label='y=x(t)' )\n",
        "ax.legend(loc = 'best')\n"
      ]
    }
  ],
  "metadata": {
    "kernelspec": {
      "display_name": "Python 3 (ipykernel)",
      "language": "python",
      "name": "python3"
    },
    "language_info": {
      "codemirror_mode": {
        "name": "ipython",
        "version": 3
      },
      "file_extension": ".py",
      "mimetype": "text/x-python",
      "name": "python",
      "nbconvert_exporter": "python",
      "pygments_lexer": "ipython3",
      "version": "3.9.12"
    },
    "colab": {
      "provenance": [],
      "include_colab_link": true
    }
  },
  "nbformat": 4,
  "nbformat_minor": 5
}