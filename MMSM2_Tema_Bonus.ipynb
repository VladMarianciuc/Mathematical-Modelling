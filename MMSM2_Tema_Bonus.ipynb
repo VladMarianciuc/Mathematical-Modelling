{
  "nbformat": 4,
  "nbformat_minor": 0,
  "metadata": {
    "colab": {
      "provenance": [],
      "authorship_tag": "ABX9TyNX7Mzl2SZUbqfs8fKKTe8H",
      "include_colab_link": true
    },
    "kernelspec": {
      "name": "python3",
      "display_name": "Python 3"
    },
    "language_info": {
      "name": "python"
    }
  },
  "cells": [
    {
      "cell_type": "markdown",
      "metadata": {
        "id": "view-in-github",
        "colab_type": "text"
      },
      "source": [
        "<a href=\"https://colab.research.google.com/github/VladMarianciuc/Mathematical-Modelling/blob/main/MMSM2_Tema_Bonus.ipynb\" target=\"_parent\"><img src=\"https://colab.research.google.com/assets/colab-badge.svg\" alt=\"Open In Colab\"/></a>"
      ]
    },
    {
      "cell_type": "code",
      "execution_count": 573,
      "metadata": {
        "id": "LIdr37U_w5kE",
        "colab": {
          "base_uri": "https://localhost:8080/"
        },
        "outputId": "5e244fcf-2493-407d-aa01-c8b486a781f3"
      },
      "outputs": [
        {
          "output_type": "stream",
          "name": "stdout",
          "text": [
            "1) fc = Matrix([[0], [-P], [0]])\n"
          ]
        }
      ],
      "source": [
        "# Problema de încovoiere a unei bare încastrate. Marianciuc Vlad grupa 322\n",
        "\n",
        "import sympy as sm\n",
        "a, b, h, l, rho, x1, x2, x3, nu, E, P, I = sm.symbols(\"a, b, h, l, rho, x1, x2, x3, nu, E, P, I\", real = True)\n",
        "\n",
        "def afisare_mesaj(mesaj):\n",
        "    chenar = '-'\n",
        "    linie = len(mesaj) * chenar\n",
        "    print(linie)\n",
        "    print(mesaj)\n",
        "    print(linie)\n",
        "\n",
        "\n",
        "F=(3*a)/4 * (-h**2+4*x2**2)\n",
        "\n",
        "# 1)\n",
        "tn_x1_zero = sm.Matrix([[0], [F], [0]])\n",
        "# sm.pprint(tn)\n",
        "\n",
        "fc = sm.Matrix([[0], [sm.integrate(sm.integrate(tn_x1_zero[1], (x2, -h/2, h/2)), (x3, -b/2, b/2))], [0]])\n",
        "\n",
        "fc = fc.subs({a:2*P/(b*h**3)})\n",
        "print('1)', end=\" \")\n",
        "sm.pprint(f'fc = {fc}')"
      ]
    },
    {
      "cell_type": "code",
      "source": [
        "# 2)\n",
        "\n",
        "T = P/(2*I)*sm.Matrix([[2*x1*x2, h**2/4 - x2**2, 0],\n",
        "                       [h**2/4 - x2**2, 0, 0],\n",
        "                       [0, 0, 2*nu*x1*x2]])\n",
        "# sm.pprint(T)\n",
        "\n",
        "divT = sm.Matrix([[sm.diff(T[0,0], x1) + sm.diff(T[0,1],x2) + sm.diff(T[0, 2], x3)],\n",
        "                  [sm.diff(T[1,0], x1) + sm.diff(T[1,1],x2) + sm.diff(T[1, 2], x3)],\n",
        "                  [sm.diff(T[2,0], x1) + sm.diff(T[2,1],x2) + sm.diff(T[2, 2], x3)]])\n",
        "print('\\n2)', end=\" \")\n",
        "sm.pprint(f'divT = {divT}') # nu avem forte de volum, deci ec de echilibru echivalent divT = 0"
      ],
      "metadata": {
        "colab": {
          "base_uri": "https://localhost:8080/"
        },
        "id": "vCDov-hyWLPf",
        "outputId": "70273ca9-1993-4207-9e94-db8afc95c866"
      },
      "execution_count": 574,
      "outputs": [
        {
          "output_type": "stream",
          "name": "stdout",
          "text": [
            "\n",
            "2) divT = Matrix([[0], [0], [0]])\n"
          ]
        }
      ]
    },
    {
      "cell_type": "code",
      "source": [
        "# 3)\n",
        "\n",
        "Tn_x2 = T@sm.Matrix([[0],\n",
        "             [1],\n",
        "             [0]])\n",
        "Tn_x2_sus = Tn_x2.subs({x2:h/2})\n",
        "Tn_x2_jos = Tn_x2.subs({x2:-h/2})\n",
        "print('\\n3)', end=\" \")\n",
        "sm.pprint(f'Tn_x2_sus = {Tn_x2_sus}')\n",
        "sm.pprint(f'   Tn_x2_jos = {Tn_x2_jos}')\n",
        "\n",
        "Tn_x1 = T@sm.Matrix([[-1],\n",
        "                     [0],\n",
        "                     [0]])\n",
        "Tn_x1_zero = sm.simplify(Tn_x1.subs({x1:0, P:(a*b*h**3)/2, I:(b*h**3)/12}))\n",
        "print(f'   Tn_x1_zero verifica conditia initiala? ', end=\" \")\n",
        "sm.pprint(Tn_x1_zero == tn_x1_zero)\n",
        "print('\\n')\n",
        "sm.pprint(Tn_x1_zero)"
      ],
      "metadata": {
        "colab": {
          "base_uri": "https://localhost:8080/"
        },
        "id": "Wiuq_5z7WO4c",
        "outputId": "61af1ed2-2bcf-4b6f-89ca-4c6af3ea2029"
      },
      "execution_count": 575,
      "outputs": [
        {
          "output_type": "stream",
          "name": "stdout",
          "text": [
            "\n",
            "3) Tn_x2_sus = Matrix([[0], [0], [0]])\n",
            "   Tn_x2_jos = Matrix([[0], [0], [0]])\n",
            "   Tn_x1_zero verifica conditia initiala?  True\n",
            "\n",
            "\n",
            "⎡        0         ⎤\n",
            "⎢                  ⎥\n",
            "⎢    ⎛   2       2⎞⎥\n",
            "⎢3⋅a⋅⎝- h  + 4⋅x₂ ⎠⎥\n",
            "⎢──────────────────⎥\n",
            "⎢        4         ⎥\n",
            "⎢                  ⎥\n",
            "⎣        0         ⎦\n"
          ]
        }
      ]
    },
    {
      "cell_type": "code",
      "source": [
        "# 4)\n",
        "\n",
        "print('\\n4)  [eps] = \\n')\n",
        "eps = (1-nu)/E *T - nu/E * (T[0,0]+T[1,1]+T[2,2]) * sm.eye(3)\n",
        "eps = sm.simplify(eps)\n",
        "sm.pprint(eps)"
      ],
      "metadata": {
        "colab": {
          "base_uri": "https://localhost:8080/"
        },
        "id": "Y92RufcSWR6f",
        "outputId": "724abfd2-1c58-4d33-93d0-cc3b6986a14d"
      },
      "execution_count": 576,
      "outputs": [
        {
          "output_type": "stream",
          "name": "stdout",
          "text": [
            "\n",
            "4)  [eps] = \n",
            "\n",
            "⎡                                 ⎛ 2       2⎞                         ⎤\n",
            "⎢P⋅x₁⋅x₂⋅(-ν⋅(ν + 1) - ν + 1)  -P⋅⎝h  - 4⋅x₂ ⎠⋅(ν - 1)                 ⎥\n",
            "⎢────────────────────────────  ────────────────────────        0       ⎥\n",
            "⎢            E⋅I                        8⋅E⋅I                          ⎥\n",
            "⎢                                                                      ⎥\n",
            "⎢     ⎛ 2       2⎞                                                     ⎥\n",
            "⎢  -P⋅⎝h  - 4⋅x₂ ⎠⋅(ν - 1)       -P⋅ν⋅x₁⋅x₂⋅(ν + 1)                    ⎥\n",
            "⎢  ────────────────────────      ───────────────────           0       ⎥\n",
            "⎢           8⋅E⋅I                        E⋅I                           ⎥\n",
            "⎢                                                                      ⎥\n",
            "⎢                                                              2       ⎥\n",
            "⎢                                                        -2⋅P⋅ν ⋅x₁⋅x₂ ⎥\n",
            "⎢             0                           0              ──────────────⎥\n",
            "⎣                                                             E⋅I      ⎦\n"
          ]
        }
      ]
    },
    {
      "cell_type": "code",
      "source": [
        "# 5)\n",
        "\n",
        "f = sm.Function(\"f\")\n",
        "g = sm.Function(\"g\")\n",
        "\n",
        "u1 = sm.integrate(eps[0, 0], x1)+f(x2)\n",
        "u2 = sm.integrate(eps[1, 1], x2)+g(x1)\n",
        "\n",
        "print('\\n5)  u1(x1, x2), u2(x1, x2) :\\n')\n",
        "sm.pprint(u1)\n",
        "sm.pprint(u2)"
      ],
      "metadata": {
        "colab": {
          "base_uri": "https://localhost:8080/"
        },
        "id": "Iy_70CwGWUM7",
        "outputId": "27318085-429c-4f4a-f6d3-afed13b5fcbe"
      },
      "execution_count": 577,
      "outputs": [
        {
          "output_type": "stream",
          "name": "stdout",
          "text": [
            "\n",
            "5)  u1(x1, x2), u2(x1, x2) :\n",
            "\n",
            "          2 ⎛     2                     ⎞\n",
            "        x₁ ⋅⎝- P⋅ν ⋅x₂ - 2⋅P⋅ν⋅x₂ + P⋅x₂⎠\n",
            "f(x₂) + ─────────────────────────────────\n",
            "                      2⋅E⋅I              \n",
            "          2 ⎛     2            ⎞\n",
            "        x₂ ⋅⎝- P⋅ν ⋅x₁ - P⋅ν⋅x₁⎠\n",
            "g(x₁) + ────────────────────────\n",
            "                 2⋅E⋅I          \n"
          ]
        }
      ]
    },
    {
      "cell_type": "code",
      "source": [
        "# 6)\n",
        "\n",
        "print('\\n6)', end=\" \")\n",
        "# componentele vectorului de deplasare verifică ecuația eps12 = 1/2(du1/dx2 + du2/dx1)\n",
        "\n",
        "expr = sm.diff(u1, x2) + sm.diff(u2, x1) - 2*eps[0,1]  #du1/dx2 + du2/dx1 - 2 eps12\n",
        "expr = sm.expand(expr)\n",
        "# sm.pprint(expr)\n",
        "\n",
        "termx2, termx1 = expr.as_independent(x1, as_Add=True)\n",
        "termx2 = sm.simplify(termx2)\n",
        "termx1 = sm.simplify(termx1)\n",
        "# sm.pprint(termx2)\n",
        "# sm.pprint(termx1)\n",
        "\n",
        "K, c1, c2 = sm.symbols('K,c1,c2')\n",
        "\n",
        "# Cum termx2 = -termx1 = K, in urma rezolvarii celor doua ecuatii determinam f'(x2) si g'(x1)\n",
        "\n",
        "dfx2 = sm.solve(termx2 - K, sm.diff(f(x2), x2))\n",
        "dgx1 = sm.solve(-termx1 - K, sm.diff(g(x1), x1))\n",
        "# sm.pprint(dfx2)\n",
        "# sm.pprint(dgx1)\n",
        "\n",
        "fx2 = sm.integrate(dfx2[0], x2) + c2\n",
        "gx1 = sm.integrate(dgx1[0], x1) + c1\n",
        "# sm.pprint(fx2)\n",
        "# sm.pprint(gx1)\n",
        "\n",
        "u1 = u1.subs(f(x2), fx2)\n",
        "u2 = u2.subs(g(x1), gx1)\n",
        "diff_u2_x1 = sm.diff(u2, x1)\n",
        "# sm.pprint(u1)\n",
        "# sm.pprint(u2)\n",
        "# sm.pprint(diff_u2_x1)\n",
        "\n",
        "sol = sm.solve([u1.subs([(x1, l), (x2, 0)]), u2.subs([(x1, l), (x2, 0)]), diff_u2_x1.subs([(x1, l), (x2, 0)])], [K, c1, c2])\n",
        "# sm.pprint(sol)\n",
        "Ksol= sol[K]\n",
        "c1sol = sol[c1]\n",
        "c2sol = sol[c2]\n",
        "print('Constantele de integrare sunt:\\n')\n",
        "sm.pprint(sol)\n",
        "\n",
        "u1 = sm.simplify(u1.subs([(K, Ksol), (c2, c2sol), (I, (b*h**3)/12)]))\n",
        "u2 = sm.simplify(u2.subs([(K, Ksol), (c1, c1sol), (I, (b*h**3)/12)]))\n",
        "# print('\\t u1(x1, x2) = \\n\\n')\n",
        "# sm.pprint(u1)\n",
        "# print('\\n\\n\\n\\t u2(x1, x2) = \\n\\n')\n",
        "# sm.pprint(u2)"
      ],
      "metadata": {
        "colab": {
          "base_uri": "https://localhost:8080/"
        },
        "id": "ta5f7bpBWV4f",
        "outputId": "daee21af-0b59-401e-d833-6869839a206e"
      },
      "execution_count": 578,
      "outputs": [
        {
          "output_type": "stream",
          "name": "stdout",
          "text": [
            "\n",
            "6) Constantele de integrare sunt:\n",
            "\n",
            "⎧      2  2        2        2         3  2        3        3       ⎫\n",
            "⎪   P⋅l ⋅ν  + 2⋅P⋅l ⋅ν - P⋅l       P⋅l ⋅ν  + 2⋅P⋅l ⋅ν - P⋅l        ⎪\n",
            "⎨K: ─────────────────────────, c₁: ─────────────────────────, c₂: 0⎬\n",
            "⎪             2⋅E⋅I                          3⋅E⋅I                 ⎪\n",
            "⎩                                                                  ⎭\n"
          ]
        }
      ]
    },
    {
      "cell_type": "code",
      "source": [
        "# 7)\n",
        "\n",
        "print('\\n7)')\n",
        "\n",
        "u1 = u1.subs([(E, 2.1 * 10**11),(nu,0.3),(l,5),(b,1),(h,1),(P,10**6)])\n",
        "u2 = u2.subs([(E, 2.1 * 10**11),(nu,0.3),(l,5),(b,1),(h,1),(P,10**6)])\n",
        "# sm.pprint(u1)\n",
        "# sm.pprint(u2)\n",
        "\n",
        "import numpy as np\n",
        "u1 = sm.lambdify([x1,x2], u1, \"numpy\")\n",
        "u2 = sm.lambdify([x1,x2], u2, \"numpy\")\n",
        "\n",
        "h = 1\n",
        "l = 5\n",
        "x = np.linspace(0,l,40)\n",
        "y = np.linspace(-h,h,16)\n",
        "x,y = np.meshgrid(x,y)\n",
        "contor = 0\n",
        "X1 = []\n",
        "X2 = []\n",
        "X1new = []\n",
        "X2new = []\n",
        "U1 = []\n",
        "U2 = []\n",
        "fact_scala = 10**2.8\n",
        "for i in range(x.shape[0]):\n",
        "    for j in range(x.shape[1]):\n",
        "      if(y[i, j]<=1/2 and y[i, j]>=-1/2):\n",
        "\t    #Adaugam elementul xij la lista X1\n",
        "          X1.append(x[i,j])\n",
        "      #Adaugam elementul Yij la lista X2\n",
        "          X2.append(y[i,j])\n",
        "      # Calculul deplasărilor în punctele din domeniul triunghiular si le adaugam la U1, resectiv U2\n",
        "          U1.append(u1(x[i,j], y[i,j]))\n",
        "          U2.append(u2(x[i,j], y[i,j]))\n",
        "      # Calculul coordonatelor punctelor deplasate (xij + fact_scala * u1) si le adaugam la lista X1new\n",
        "          X1new.append(x[i,j] + fact_scala * U1[contor])\n",
        "      # Calculul coordonatelor punctelor deplasate (yij + fact_scala * u2) si le adaugam la lista X2new\n",
        "          X2new.append(y[i,j] + fact_scala * U2[contor])\n",
        "          contor = contor + 1\n",
        "\n",
        "import matplotlib.pyplot as plt\n",
        "\n",
        "fig, ax = plt.subplots()\n",
        "ax.axis('equal')\n",
        "# Graficul domeniului nedeformat\n",
        "ax.plot(X1, X2, linestyle='None',marker = '.',markersize = 10, markerfacecolor = 'k', markeredgecolor = \"k\", label='domeniu nedeformat')\n",
        "\n",
        "# Graficul domeniului deformat\n",
        "ax.plot(X1new, X2new, linestyle='None',marker = '.',markersize = 10, markerfacecolor = 'b', markeredgecolor = \"b\", label = 'domeniu deformat')\n",
        "\n",
        "ax.legend(loc='best')\n",
        "\n",
        "ax.grid(True, color='0.8')\n",
        "# ax.set_title('Domeniul nedeformat, respectiv deformat')"
      ],
      "metadata": {
        "colab": {
          "base_uri": "https://localhost:8080/",
          "height": 465
        },
        "id": "OC3d6hELcUfg",
        "outputId": "78e806bb-babf-466c-c50d-f3442e2eecf4"
      },
      "execution_count": 579,
      "outputs": [
        {
          "output_type": "stream",
          "name": "stdout",
          "text": [
            "\n",
            "7)\n"
          ]
        },
        {
          "output_type": "display_data",
          "data": {
            "text/plain": [
              "<Figure size 640x480 with 1 Axes>"
            ],
            "image/png": "[encoded data removed]"
          },
          "metadata": {}
        }
      ]
    }
  ]
}